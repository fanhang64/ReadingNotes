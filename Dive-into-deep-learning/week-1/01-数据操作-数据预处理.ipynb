{
 "cells": [
  {
   "cell_type": "code",
   "execution_count": 9,
   "id": "29eb60c2",
   "metadata": {},
   "outputs": [],
   "source": [
    "import torch"
   ]
  },
  {
   "cell_type": "markdown",
   "id": "426f8b7d",
   "metadata": {},
   "source": [
    "张量表示一个数值组成的数组，这个数组可能有多个维度。"
   ]
  },
  {
   "cell_type": "code",
   "execution_count": 10,
   "id": "b97ba07d",
   "metadata": {},
   "outputs": [
    {
     "name": "stdout",
     "output_type": "stream",
     "text": [
      "tensor([ 0,  1,  2,  3,  4,  5,  6,  7,  8,  9, 10, 11])\n"
     ]
    }
   ],
   "source": [
    "x = torch.arange(12)\n",
    "print(x)"
   ]
  },
  {
   "cell_type": "markdown",
   "id": "3b1cacb3",
   "metadata": {},
   "source": [
    "可以通过shape访问张量的shape和张量中元素的总数"
   ]
  },
  {
   "cell_type": "code",
   "execution_count": 12,
   "id": "1d77ee1a",
   "metadata": {},
   "outputs": [
    {
     "name": "stdout",
     "output_type": "stream",
     "text": [
      "torch.Size([12])\n",
      "12\n"
     ]
    }
   ],
   "source": [
    "print(x.shape)\n",
    "print(x.numel())  # tensor的方法，里面元素的总数"
   ]
  },
  {
   "cell_type": "markdown",
   "id": "0b349d5f",
   "metadata": {},
   "source": [
    "如果要改变一个张量的形状，而不改变元素数量和元素值，我们可以调用reshape函数"
   ]
  },
  {
   "cell_type": "code",
   "execution_count": 14,
   "id": "f5f1f70d",
   "metadata": {},
   "outputs": [
    {
     "name": "stdout",
     "output_type": "stream",
     "text": [
      "tensor([[ 0,  1,  2,  3],\n",
      "        [ 4,  5,  6,  7],\n",
      "        [ 8,  9, 10, 11]])\n"
     ]
    }
   ],
   "source": [
    "x = x.reshape(3, 4)\n",
    "print(x)"
   ]
  },
  {
   "cell_type": "markdown",
   "id": "2ab5fa48",
   "metadata": {},
   "source": [
    "使用全0，全1,，其他常量的张量，也可以从特定分布中随机采样的数字创建张量"
   ]
  },
  {
   "cell_type": "code",
   "execution_count": 16,
   "id": "f89f8e4d",
   "metadata": {},
   "outputs": [
    {
     "name": "stdout",
     "output_type": "stream",
     "text": [
      "tensor([[[1., 1., 1., 1.],\n",
      "         [1., 1., 1., 1.],\n",
      "         [1., 1., 1., 1.]],\n",
      "\n",
      "        [[1., 1., 1., 1.],\n",
      "         [1., 1., 1., 1.],\n",
      "         [1., 1., 1., 1.]]])\n"
     ]
    }
   ],
   "source": [
    "x = torch.ones((2,3,4))\n",
    "print(x)"
   ]
  },
  {
   "cell_type": "code",
   "execution_count": 18,
   "id": "98221fab",
   "metadata": {},
   "outputs": [
    {
     "name": "stdout",
     "output_type": "stream",
     "text": [
      "tensor([[[0., 0., 0., 0.],\n",
      "         [0., 0., 0., 0.],\n",
      "         [0., 0., 0., 0.]],\n",
      "\n",
      "        [[0., 0., 0., 0.],\n",
      "         [0., 0., 0., 0.],\n",
      "         [0., 0., 0., 0.]]])\n"
     ]
    }
   ],
   "source": [
    "x = torch.zeros((2, 3, 4))\n",
    "print(x)"
   ]
  },
  {
   "cell_type": "markdown",
   "id": "0242a6ec",
   "metadata": {},
   "source": [
    "可以通过列表来创建一个张量"
   ]
  },
  {
   "cell_type": "code",
   "execution_count": 21,
   "id": "ae74d5d5",
   "metadata": {},
   "outputs": [
    {
     "name": "stdout",
     "output_type": "stream",
     "text": [
      "tensor([[2, 1, 4, 3],\n",
      "        [1, 2, 3, 4],\n",
      "        [4, 3, 2, 1]])\n",
      "torch.Size([3, 4])\n"
     ]
    }
   ],
   "source": [
    "x = torch.tensor([[2,1,4,3],[1,2,3,4],[4,3,2,1]])\n",
    "print(x)\n",
    "print(x.shape)"
   ]
  },
  {
   "cell_type": "markdown",
   "id": "2b260f13",
   "metadata": {},
   "source": [
    "张量的标准算数运算，+，-，\\*，和\\*\\* 都是按照元素运算"
   ]
  },
  {
   "cell_type": "code",
   "execution_count": 26,
   "id": "8e0f2de8",
   "metadata": {},
   "outputs": [
    {
     "data": {
      "text/plain": [
       "(tensor([ 3.,  4.,  6., 10.]),\n",
       " tensor([-1.,  0.,  2.,  6.]),\n",
       " tensor([ 2.,  4.,  8., 16.]),\n",
       " tensor([0.5000, 1.0000, 2.0000, 4.0000]),\n",
       " tensor([ 1.,  4., 16., 64.]))"
      ]
     },
     "execution_count": 26,
     "metadata": {},
     "output_type": "execute_result"
    }
   ],
   "source": [
    "x = torch.tensor([1.0, 2, 4, 8])\n",
    "y = torch.tensor([2,2,2,2])\n",
    "x+y, x-y, x*y, x/y, x**y"
   ]
  },
  {
   "cell_type": "markdown",
   "id": "6e883dc8",
   "metadata": {},
   "source": [
    "可以将多个装量连结在一起"
   ]
  },
  {
   "cell_type": "code",
   "execution_count": 31,
   "id": "1d9a5e49",
   "metadata": {},
   "outputs": [
    {
     "name": "stdout",
     "output_type": "stream",
     "text": [
      "tensor([[ 0.,  1.,  2.,  3.],\n",
      "        [ 4.,  5.,  6.,  7.],\n",
      "        [ 8.,  9., 10., 11.],\n",
      "        [ 2.,  1.,  4.,  3.],\n",
      "        [ 1.,  2.,  3.,  4.],\n",
      "        [ 4.,  3.,  2.,  1.]])\n",
      "tensor([[ 0.,  1.,  2.,  3.,  2.,  1.,  4.,  3.],\n",
      "        [ 4.,  5.,  6.,  7.,  1.,  2.,  3.,  4.],\n",
      "        [ 8.,  9., 10., 11.,  4.,  3.,  2.,  1.]])\n"
     ]
    }
   ],
   "source": [
    "x = torch.arange(12, dtype=torch.float32).reshape((3,4))\n",
    "y = torch.tensor([[2.0, 1, 4, 3],[1, 2, 3, 4], [4, 3,2,1]])\n",
    "print(torch.cat((x, y),dim=0))  # 一维合并（在行合并）\n",
    "print(torch.cat((x, y), dim=1))  # 二维合并（在列合并）"
   ]
  },
  {
   "cell_type": "markdown",
   "id": "e5794b1d",
   "metadata": {},
   "source": [
    "通过逻辑运算符，构造二元张量"
   ]
  },
  {
   "cell_type": "code",
   "execution_count": 33,
   "id": "47d94fcd",
   "metadata": {},
   "outputs": [
    {
     "name": "stdout",
     "output_type": "stream",
     "text": [
      "tensor([[ 0.,  1.,  2.,  3.],\n",
      "        [ 4.,  5.,  6.,  7.],\n",
      "        [ 8.,  9., 10., 11.]])\n",
      "tensor([[2., 1., 4., 3.],\n",
      "        [1., 2., 3., 4.],\n",
      "        [4., 3., 2., 1.]])\n"
     ]
    },
    {
     "data": {
      "text/plain": [
       "tensor([[False,  True, False,  True],\n",
       "        [False, False, False, False],\n",
       "        [False, False, False, False]])"
      ]
     },
     "execution_count": 33,
     "metadata": {},
     "output_type": "execute_result"
    }
   ],
   "source": [
    "print(x)\n",
    "print(y)\n",
    "x == y"
   ]
  },
  {
   "cell_type": "markdown",
   "id": "16e3fbfc",
   "metadata": {},
   "source": [
    "对张量的所有元素进行求和，只会产生一个元素的张量"
   ]
  },
  {
   "cell_type": "code",
   "execution_count": 36,
   "id": "f04f3203",
   "metadata": {},
   "outputs": [
    {
     "data": {
      "text/plain": [
       "tensor(66.)"
      ]
     },
     "execution_count": 36,
     "metadata": {},
     "output_type": "execute_result"
    }
   ],
   "source": [
    "x.sum()"
   ]
  },
  {
   "cell_type": "markdown",
   "id": "89d4dc8e",
   "metadata": {},
   "source": [
    "形状不同的装量，可以通过广播机制来执行按元素操作。"
   ]
  },
  {
   "cell_type": "code",
   "execution_count": 40,
   "id": "6c0594d5",
   "metadata": {},
   "outputs": [
    {
     "name": "stdout",
     "output_type": "stream",
     "text": [
      "tensor([[0],\n",
      "        [1],\n",
      "        [2]]) tensor([[0, 1]])\n",
      "torch.Size([3, 1])\n",
      "torch.Size([1, 2])\n",
      "tensor([[0, 1],\n",
      "        [1, 2],\n",
      "        [2, 3]])\n",
      "torch.Size([3, 2])\n"
     ]
    }
   ],
   "source": [
    "x = torch.arange(3).reshape((3, 1))\n",
    "y = torch.arange(2).reshape((1, 2))\n",
    "print(x, y)\n",
    "print(x.shape)\n",
    "print(y.shape)\n",
    "\n",
    "print(x+y)\n",
    "print((x+y).shape)"
   ]
  },
  {
   "cell_type": "markdown",
   "id": "2f62b1de",
   "metadata": {},
   "source": [
    "## 元素访问"
   ]
  },
  {
   "cell_type": "markdown",
   "id": "d3a66c04",
   "metadata": {},
   "source": [
    "可以通过[-1]来访问最后一个元素，可以用[1:3]选择第二个和第三个元素"
   ]
  },
  {
   "cell_type": "code",
   "execution_count": 50,
   "id": "45482541",
   "metadata": {},
   "outputs": [],
   "source": [
    "x = torch.arange(12, dtype=torch.float32).reshape((3,4))\n",
    "y = torch.tensor([[2.0, 1, 4, 3],[1, 2, 3, 4], [4, 3,2,1]])"
   ]
  },
  {
   "cell_type": "code",
   "execution_count": 51,
   "id": "133c8f85",
   "metadata": {},
   "outputs": [
    {
     "data": {
      "text/plain": [
       "(tensor([ 8.,  9., 10., 11.]),\n",
       " tensor([[ 4.,  5.,  6.,  7.],\n",
       "         [ 8.,  9., 10., 11.]]))"
      ]
     },
     "execution_count": 51,
     "metadata": {},
     "output_type": "execute_result"
    }
   ],
   "source": [
    "x[-1], x[1:3]"
   ]
  },
  {
   "cell_type": "markdown",
   "id": "785ee7dc",
   "metadata": {},
   "source": [
    "可以通过制定索引来修改矩阵"
   ]
  },
  {
   "cell_type": "code",
   "execution_count": 52,
   "id": "bc532250",
   "metadata": {},
   "outputs": [],
   "source": [
    "# x[1:2] = 9  # 第1行的所有列，都修改为9\n",
    "x[1,2] = 9  # 将第1行第2列元素，值改为9"
   ]
  },
  {
   "cell_type": "code",
   "execution_count": 53,
   "id": "4be8cb68",
   "metadata": {},
   "outputs": [
    {
     "name": "stdout",
     "output_type": "stream",
     "text": [
      "tensor([[ 0.,  1.,  2.,  3.],\n",
      "        [ 4.,  5.,  9.,  7.],\n",
      "        [ 8.,  9., 10., 11.]])\n"
     ]
    }
   ],
   "source": [
    "print(x)"
   ]
  },
  {
   "cell_type": "markdown",
   "id": "c389b11b",
   "metadata": {},
   "source": [
    "可以给张量中多个元素赋相同的值"
   ]
  },
  {
   "cell_type": "code",
   "execution_count": 54,
   "id": "ab852ae2",
   "metadata": {},
   "outputs": [
    {
     "name": "stdout",
     "output_type": "stream",
     "text": [
      "tensor([[12., 12., 12., 12.],\n",
      "        [12., 12., 12., 12.],\n",
      "        [ 8.,  9., 10., 11.]])\n"
     ]
    }
   ],
   "source": [
    "x[0:2, :] = 12  # 第0， 1行，所有列赋值为12\n",
    "print(x)"
   ]
  },
  {
   "cell_type": "markdown",
   "id": "adb2f532",
   "metadata": {},
   "source": [
    "防止为创建新的变量，节省内存。这里可执行原地操作。"
   ]
  },
  {
   "cell_type": "code",
   "execution_count": 59,
   "id": "2358567c",
   "metadata": {},
   "outputs": [
    {
     "name": "stdout",
     "output_type": "stream",
     "text": [
      "2157881703808\n",
      "2157881705536\n",
      "False\n"
     ]
    }
   ],
   "source": [
    "before = id(y)\n",
    "y = y + x\n",
    "print(before)\n",
    "print(id(y))\n",
    "print(id(y) == before)"
   ]
  },
  {
   "cell_type": "code",
   "execution_count": 60,
   "id": "b2272911",
   "metadata": {
    "scrolled": true
   },
   "outputs": [
    {
     "name": "stdout",
     "output_type": "stream",
     "text": [
      "2157885019328\n",
      "2157885019328\n"
     ]
    }
   ],
   "source": [
    "z = torch.zeros_like(y)  # 根据y的shape创建都为0的z\n",
    "print(id(z))\n",
    "z[:] = x + y  # 法一：x[:] = x+ y\n",
    "print(id(z))"
   ]
  },
  {
   "cell_type": "code",
   "execution_count": 63,
   "id": "863de272",
   "metadata": {},
   "outputs": [
    {
     "name": "stdout",
     "output_type": "stream",
     "text": [
      "2157872227200\n",
      "2157872227200\n"
     ]
    }
   ],
   "source": [
    "print(id(x))\n",
    "x += y   # 法二：x += y 也是原地操作，节省内存\n",
    "print(id(x))"
   ]
  },
  {
   "cell_type": "markdown",
   "id": "1ae77ab2",
   "metadata": {},
   "source": [
    "可以将张量，转为numpy的ndarray类型。"
   ]
  },
  {
   "cell_type": "code",
   "execution_count": 65,
   "id": "c13e7708",
   "metadata": {},
   "outputs": [
    {
     "name": "stdout",
     "output_type": "stream",
     "text": [
      "[[136. 134. 140. 138.]\n",
      " [134. 136. 138. 140.]\n",
      " [ 96. 105. 114. 123.]]\n",
      "<class 'numpy.ndarray'>\n"
     ]
    }
   ],
   "source": [
    "print(x.numpy())\n",
    "print(type(x.numpy()))"
   ]
  },
  {
   "cell_type": "markdown",
   "id": "a9c3cbf3",
   "metadata": {},
   "source": [
    "可以将size大小(元素个数)为1的张量转换为Python的标量"
   ]
  },
  {
   "cell_type": "code",
   "execution_count": 66,
   "id": "09946bc9",
   "metadata": {},
   "outputs": [
    {
     "name": "stdout",
     "output_type": "stream",
     "text": [
      "tensor([3.5000])\n",
      "3.5\n",
      "3.5\n",
      "3\n"
     ]
    }
   ],
   "source": [
    "a = torch.tensor([3.5])\n",
    "print(a)\n",
    "print(a.item())  # 只有一个元素的张量，才能转为python的标量\n",
    "print(float(a))\n",
    "print(int(a))"
   ]
  },
  {
   "cell_type": "code",
   "execution_count": 67,
   "id": "149407cc",
   "metadata": {
    "scrolled": false
   },
   "outputs": [
    {
     "ename": "ValueError",
     "evalue": "only one element tensors can be converted to Python scalars",
     "output_type": "error",
     "traceback": [
      "\u001b[1;31m---------------------------------------------------------------------------\u001b[0m",
      "\u001b[1;31mValueError\u001b[0m                                Traceback (most recent call last)",
      "\u001b[1;32m~\\AppData\\Local\\Temp/ipykernel_15052/1936155558.py\u001b[0m in \u001b[0;36m<module>\u001b[1;34m\u001b[0m\n\u001b[1;32m----> 1\u001b[1;33m \u001b[0mx\u001b[0m\u001b[1;33m.\u001b[0m\u001b[0mitem\u001b[0m\u001b[1;33m(\u001b[0m\u001b[1;33m)\u001b[0m\u001b[1;33m\u001b[0m\u001b[1;33m\u001b[0m\u001b[0m\n\u001b[0m",
      "\u001b[1;31mValueError\u001b[0m: only one element tensors can be converted to Python scalars"
     ]
    }
   ],
   "source": [
    "x.item()"
   ]
  },
  {
   "cell_type": "markdown",
   "id": "748658a0",
   "metadata": {},
   "source": [
    "## 数据预处理"
   ]
  },
  {
   "cell_type": "markdown",
   "id": "388579c1",
   "metadata": {},
   "source": [
    "创建一个人工数据集，不存储在csv中，逗号分割。"
   ]
  },
  {
   "cell_type": "code",
   "execution_count": 117,
   "id": "2bdc7d8c",
   "metadata": {},
   "outputs": [],
   "source": [
    "import os \n",
    "\n",
    "os.makedirs(os.path.join('..', 'data'), exist_ok=True)  # r如果存在，不抛异常。\n",
    "data_file = os.path.join('..', 'data', 'house_tiny.csv')\n",
    "\n",
    "with open(data_file, 'w') as f:\n",
    "    f.write('Numrooms,Alley,Price\\n')  # 列名\n",
    "    f.write('nan,Pave,127500\\n')\n",
    "    f.write('2,nan,10600\\n')\n",
    "    f.write('4,nan,178100\\n')\n",
    "    f.write('nan,nan,14000\\n')"
   ]
  },
  {
   "cell_type": "code",
   "execution_count": 118,
   "id": "deb09f6b",
   "metadata": {
    "scrolled": true
   },
   "outputs": [
    {
     "name": "stdout",
     "output_type": "stream",
     "text": [
      "   Numrooms Alley   Price\n",
      "0       NaN  Pave  127500\n",
      "1       2.0   NaN   10600\n",
      "2       4.0   NaN  178100\n",
      "3       NaN   NaN   14000\n"
     ]
    }
   ],
   "source": [
    "import pandas as pd \n",
    "\n",
    "data = pd.read_csv(data_file)\n",
    "print(data)"
   ]
  },
  {
   "cell_type": "code",
   "execution_count": 119,
   "id": "4d592aec",
   "metadata": {},
   "outputs": [],
   "source": [
    "import numpy as np"
   ]
  },
  {
   "cell_type": "markdown",
   "id": "53461c53",
   "metadata": {},
   "source": [
    "### 处理缺失数据"
   ]
  },
  {
   "cell_type": "markdown",
   "id": "8538e0a4",
   "metadata": {},
   "source": [
    "典型方法：插值和删除。 这里使用差值的方法。"
   ]
  },
  {
   "cell_type": "code",
   "execution_count": 123,
   "id": "2d56e947",
   "metadata": {},
   "outputs": [
    {
     "name": "stdout",
     "output_type": "stream",
     "text": [
      "   Numrooms Alley\n",
      "0       NaN  Pave\n",
      "1       2.0   NaN\n",
      "2       4.0   NaN\n",
      "3       NaN   NaN\n",
      "0    127500\n",
      "1     10600\n",
      "2    178100\n",
      "3     14000\n",
      "Name: Price, dtype: int64\n",
      "mean....: Numrooms    3.0\n",
      "dtype: float64\n",
      "   Numrooms Alley\n",
      "0       3.0  Pave\n",
      "1       2.0   NaN\n",
      "2       4.0   NaN\n",
      "3       3.0   NaN\n",
      "0    127500\n",
      "1     10600\n",
      "2    178100\n",
      "3     14000\n",
      "Name: Price, dtype: int64\n"
     ]
    },
    {
     "name": "stderr",
     "output_type": "stream",
     "text": [
      "C:\\Users\\fanzone\\AppData\\Local\\Temp/ipykernel_15052/3556517201.py:4: FutureWarning: Dropping of nuisance columns in DataFrame reductions (with 'numeric_only=None') is deprecated; in a future version this will raise TypeError.  Select only valid columns before calling the reduction.\n",
      "  print(\"mean....:\", inputs.mean())\n",
      "C:\\Users\\fanzone\\AppData\\Local\\Temp/ipykernel_15052/3556517201.py:6: FutureWarning: Dropping of nuisance columns in DataFrame reductions (with 'numeric_only=None') is deprecated; in a future version this will raise TypeError.  Select only valid columns before calling the reduction.\n",
      "  inputs = inputs.fillna(inputs.mean())\n"
     ]
    }
   ],
   "source": [
    "inputs,outputs = data.iloc[:, 0:2], data.iloc[:, 2]\n",
    "print(inputs)\n",
    "print(outputs)\n",
    "print(\"mean....:\", inputs.mean())\n",
    "\n",
    "inputs = inputs.fillna(inputs.mean())\n",
    "print(inputs)\n",
    "print(outputs)"
   ]
  },
  {
   "cell_type": "markdown",
   "id": "009c95f0",
   "metadata": {},
   "source": [
    "但是有个问题，只将dtype类型为数值字段的nan填充，如何处理其他列的nan。"
   ]
  },
  {
   "cell_type": "code",
   "execution_count": 126,
   "id": "3443c258",
   "metadata": {},
   "outputs": [
    {
     "name": "stdout",
     "output_type": "stream",
     "text": [
      "   Numrooms  Alley_Pave  Alley_nan\n",
      "0       3.0           1          0\n",
      "1       2.0           0          1\n",
      "2       4.0           0          1\n",
      "3       3.0           0          1\n"
     ]
    }
   ],
   "source": [
    "# 我们将allay的所有取值，变为一个特征，数据离散化。然后allay_pave, allay_nan\n",
    "# dummy_na=False则会忽略na。\n",
    "inputs = pd.get_dummies(inputs, dummy_na=True)\n",
    "print(inputs)"
   ]
  },
  {
   "cell_type": "code",
   "execution_count": 139,
   "id": "380a70df",
   "metadata": {},
   "outputs": [
    {
     "name": "stdout",
     "output_type": "stream",
     "text": [
      "tensor([[3., 1., 0.],\n",
      "        [2., 0., 1.],\n",
      "        [4., 0., 1.],\n",
      "        [3., 0., 1.]], dtype=torch.float64) tensor([127500,  10600, 178100,  14000])\n"
     ]
    }
   ],
   "source": [
    "X,y = torch.tensor(inputs.values), torch.tensor(outputs.values)\n",
    "print(X, y)  # python浮点数默认float64, 但计算慢，对于深度学习来说，一般float32"
   ]
  },
  {
   "cell_type": "markdown",
   "id": "c2373d15",
   "metadata": {},
   "source": [
    "Q & A"
   ]
  },
  {
   "cell_type": "code",
   "execution_count": 146,
   "id": "e5e6b9bf",
   "metadata": {},
   "outputs": [
    {
     "name": "stdout",
     "output_type": "stream",
     "text": [
      "2157948509568\n",
      "tensor([ 0,  1,  2,  3, 11, 11, 11, 11,  8,  9, 10, 11])\n"
     ]
    }
   ],
   "source": [
    "a = torch.arange(12)\n",
    "print(id(a))\n",
    "b = a.reshape((3, 4))  # reshape返回的变量的地址\n",
    "b[1] = 11\n",
    "print(a)"
   ]
  },
  {
   "cell_type": "markdown",
   "id": "682b70e9",
   "metadata": {},
   "source": [
    "tensor 数学上的定义，其实和数组一样。"
   ]
  },
  {
   "cell_type": "markdown",
   "id": "4aa6f804",
   "metadata": {},
   "source": [
    "## 拓展 numpy和 pandas"
   ]
  },
  {
   "cell_type": "code",
   "execution_count": null,
   "id": "a4f43452",
   "metadata": {},
   "outputs": [],
   "source": []
  }
 ],
 "metadata": {
  "kernelspec": {
   "display_name": "Python 3 (ipykernel)",
   "language": "python",
   "name": "python3"
  },
  "language_info": {
   "codemirror_mode": {
    "name": "ipython",
    "version": 3
   },
   "file_extension": ".py",
   "mimetype": "text/x-python",
   "name": "python",
   "nbconvert_exporter": "python",
   "pygments_lexer": "ipython3",
   "version": "3.9.2"
  }
 },
 "nbformat": 4,
 "nbformat_minor": 5
}
