{
 "cells": [
  {
   "cell_type": "code",
   "execution_count": 1,
   "id": "8df72005",
   "metadata": {},
   "outputs": [],
   "source": [
    "import torch"
   ]
  },
  {
   "cell_type": "markdown",
   "id": "0923caa0",
   "metadata": {},
   "source": [
    "**假设我们对函数y=2x<sup>T</sup>x关于列向量x求导**"
   ]
  },
  {
   "cell_type": "code",
   "execution_count": 3,
   "id": "2a8be2a0",
   "metadata": {},
   "outputs": [
    {
     "name": "stdout",
     "output_type": "stream",
     "text": [
      "tensor([0., 1., 2., 3.])\n"
     ]
    }
   ],
   "source": [
    "x = torch.arange(4.0)\n",
    "print(x)"
   ]
  },
  {
   "cell_type": "markdown",
   "id": "3d373598",
   "metadata": {},
   "source": [
    "**在我们计算y关于x的梯度之前，我们需要一个地方来存储梯度。**"
   ]
  },
  {
   "cell_type": "code",
   "execution_count": 5,
   "id": "310162fe",
   "metadata": {},
   "outputs": [],
   "source": [
    "x.requires_grad_(True)  #  等同于 x = torch.arange(4.0, requires_grad=True)\n",
    "x.grad  # 默认为None， 设置required_grad_为True, 以后可以通过x.grad访问梯度。"
   ]
  },
  {
   "cell_type": "markdown",
   "id": "7fef25ec",
   "metadata": {},
   "source": [
    "**计算y**"
   ]
  },
  {
   "cell_type": "code",
   "execution_count": 14,
   "id": "5acf5ec2",
   "metadata": {},
   "outputs": [
    {
     "name": "stdout",
     "output_type": "stream",
     "text": [
      "tensor(28., grad_fn=<MulBackward0>)\n"
     ]
    }
   ],
   "source": [
    "y = 2 * torch.dot(x, x)\n",
    "print(y)"
   ]
  },
  {
   "cell_type": "markdown",
   "id": "e215809b",
   "metadata": {},
   "source": [
    "**通过调用反向传播函数，来自动计算y关于x的每个分量的梯度**"
   ]
  },
  {
   "cell_type": "code",
   "execution_count": 15,
   "id": "9bdb446b",
   "metadata": {},
   "outputs": [
    {
     "data": {
      "text/plain": [
       "tensor([ 0., 12., 24., 36.])"
      ]
     },
     "execution_count": 15,
     "metadata": {},
     "output_type": "execute_result"
    }
   ],
   "source": [
    "y.backward()  # 求导\n",
    "x.grad"
   ]
  },
  {
   "cell_type": "code",
   "execution_count": 17,
   "id": "6c191dd2",
   "metadata": {},
   "outputs": [
    {
     "data": {
      "text/plain": [
       "tensor([ 0.,  4.,  8., 12.], grad_fn=<MulBackward0>)"
      ]
     },
     "execution_count": 17,
     "metadata": {},
     "output_type": "execute_result"
    }
   ],
   "source": [
    "4 * x"
   ]
  },
  {
   "cell_type": "code",
   "execution_count": 16,
   "id": "1871fc69",
   "metadata": {},
   "outputs": [
    {
     "data": {
      "text/plain": [
       "tensor([ True, False, False, False])"
      ]
     },
     "execution_count": 16,
     "metadata": {},
     "output_type": "execute_result"
    }
   ],
   "source": [
    "x.grad == 4 * x"
   ]
  },
  {
   "cell_type": "markdown",
   "id": "44b5261d",
   "metadata": {},
   "source": [
    "**当计算另一个函数时，Pytorch会累积梯度，我们需要清除之前的值。**"
   ]
  },
  {
   "cell_type": "code",
   "execution_count": 19,
   "id": "567937bb",
   "metadata": {},
   "outputs": [
    {
     "data": {
      "text/plain": [
       "tensor([0., 0., 0., 0.])"
      ]
     },
     "execution_count": 19,
     "metadata": {},
     "output_type": "execute_result"
    }
   ],
   "source": [
    "x.grad.zero_()   # 清除之前的梯度值"
   ]
  },
  {
   "cell_type": "code",
   "execution_count": 20,
   "id": "c52c4c3d",
   "metadata": {},
   "outputs": [],
   "source": [
    "y = x.sum()  # 标量"
   ]
  },
  {
   "cell_type": "code",
   "execution_count": 21,
   "id": "dccaa654",
   "metadata": {},
   "outputs": [
    {
     "data": {
      "text/plain": [
       "tensor([1., 1., 1., 1.])"
      ]
     },
     "execution_count": 21,
     "metadata": {},
     "output_type": "execute_result"
    }
   ],
   "source": [
    "y.backward()\n",
    "x.grad"
   ]
  },
  {
   "cell_type": "markdown",
   "id": "39b37c3c",
   "metadata": {},
   "source": [
    "**将计算移动到记录的计算图之外**"
   ]
  },
  {
   "cell_type": "code",
   "execution_count": 24,
   "id": "9a2128bf",
   "metadata": {},
   "outputs": [
    {
     "data": {
      "text/plain": [
       "tensor([True, True, True, True])"
      ]
     },
     "execution_count": 24,
     "metadata": {},
     "output_type": "execute_result"
    }
   ],
   "source": [
    "x.grad.zero_()\n",
    "\n",
    "y = x * x\n",
    "u = y.detach()\n",
    "z = u * x \n",
    "z.sum().backward()\n",
    "x.grad == u"
   ]
  },
  {
   "cell_type": "code",
   "execution_count": null,
   "id": "27f57289",
   "metadata": {},
   "outputs": [],
   "source": []
  },
  {
   "cell_type": "code",
   "execution_count": null,
   "id": "9e401e0e",
   "metadata": {},
   "outputs": [],
   "source": []
  }
 ],
 "metadata": {
  "kernelspec": {
   "display_name": "Python 3 (ipykernel)",
   "language": "python",
   "name": "python3"
  },
  "language_info": {
   "codemirror_mode": {
    "name": "ipython",
    "version": 3
   },
   "file_extension": ".py",
   "mimetype": "text/x-python",
   "name": "python",
   "nbconvert_exporter": "python",
   "pygments_lexer": "ipython3",
   "version": "3.9.2"
  }
 },
 "nbformat": 4,
 "nbformat_minor": 5
}
