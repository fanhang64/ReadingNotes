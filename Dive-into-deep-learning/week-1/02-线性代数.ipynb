{
 "cells": [
  {
   "cell_type": "code",
   "execution_count": 2,
   "id": "cdd2ddeb",
   "metadata": {},
   "outputs": [],
   "source": [
    "import torch"
   ]
  },
  {
   "cell_type": "markdown",
   "id": "60f42e45",
   "metadata": {},
   "source": [
    "标量由一个元素的张量表示。"
   ]
  },
  {
   "cell_type": "code",
   "execution_count": 3,
   "id": "01c08bbf",
   "metadata": {
    "scrolled": true
   },
   "outputs": [
    {
     "data": {
      "text/plain": [
       "(tensor([5.]), tensor([6.]), tensor([1.5000]), tensor([9.]))"
      ]
     },
     "execution_count": 3,
     "metadata": {},
     "output_type": "execute_result"
    }
   ],
   "source": [
    "x = torch.tensor([3.0])\n",
    "y = torch.tensor([2.0])\n",
    "\n",
    "x + y, x * y, x / y, x ** y"
   ]
  },
  {
   "cell_type": "markdown",
   "id": "55414d62",
   "metadata": {},
   "source": [
    "**向量**是由标量组成的列表"
   ]
  },
  {
   "cell_type": "code",
   "execution_count": 4,
   "id": "7925566a",
   "metadata": {},
   "outputs": [
    {
     "data": {
      "text/plain": [
       "tensor([0, 1, 2, 3])"
      ]
     },
     "execution_count": 4,
     "metadata": {},
     "output_type": "execute_result"
    }
   ],
   "source": [
    "x = torch.arange(4)\n",
    "x"
   ]
  },
  {
   "cell_type": "markdown",
   "id": "73e9e1dd",
   "metadata": {},
   "source": [
    "通过张量的索引来访问任一个元素"
   ]
  },
  {
   "cell_type": "code",
   "execution_count": 5,
   "id": "8222ee2d",
   "metadata": {},
   "outputs": [
    {
     "data": {
      "text/plain": [
       "tensor(3)"
      ]
     },
     "execution_count": 5,
     "metadata": {},
     "output_type": "execute_result"
    }
   ],
   "source": [
    "x[3]"
   ]
  },
  {
   "cell_type": "markdown",
   "id": "d4d85b7f",
   "metadata": {},
   "source": [
    "访问张量的长度。"
   ]
  },
  {
   "cell_type": "code",
   "execution_count": 6,
   "id": "773543ed",
   "metadata": {},
   "outputs": [
    {
     "data": {
      "text/plain": [
       "4"
      ]
     },
     "execution_count": 6,
     "metadata": {},
     "output_type": "execute_result"
    }
   ],
   "source": [
    "len(x)  # 如果张量的轴为2，则len()返回第一个轴的长度"
   ]
  },
  {
   "cell_type": "code",
   "execution_count": 8,
   "id": "656478e8",
   "metadata": {},
   "outputs": [
    {
     "data": {
      "text/plain": [
       "torch.Size([4])"
      ]
     },
     "execution_count": 8,
     "metadata": {},
     "output_type": "execute_result"
    }
   ],
   "source": [
    "x.shape  # 只有一个轴的张量"
   ]
  },
  {
   "cell_type": "markdown",
   "id": "1983782f",
   "metadata": {},
   "source": [
    "可以通过两个分量m和n，创建一个形状为`m*n`的矩阵。"
   ]
  },
  {
   "cell_type": "code",
   "execution_count": 9,
   "id": "34b2a6e8",
   "metadata": {},
   "outputs": [
    {
     "data": {
      "text/plain": [
       "tensor([[ 0,  1,  2,  3],\n",
       "        [ 4,  5,  6,  7],\n",
       "        [ 8,  9, 10, 11],\n",
       "        [12, 13, 14, 15],\n",
       "        [16, 17, 18, 19]])"
      ]
     },
     "execution_count": 9,
     "metadata": {},
     "output_type": "execute_result"
    }
   ],
   "source": [
    "A = torch.arange(20).reshape(5, 4)\n",
    "A"
   ]
  },
  {
   "cell_type": "code",
   "execution_count": 11,
   "id": "4e5c5cd9",
   "metadata": {},
   "outputs": [
    {
     "data": {
      "text/plain": [
       "tensor([[ 0,  4,  8, 12, 16],\n",
       "        [ 1,  5,  9, 13, 17],\n",
       "        [ 2,  6, 10, 14, 18],\n",
       "        [ 3,  7, 11, 15, 19]])"
      ]
     },
     "execution_count": 11,
     "metadata": {},
     "output_type": "execute_result"
    }
   ],
   "source": [
    "A.T  # 矩阵的转置"
   ]
  },
  {
   "cell_type": "markdown",
   "id": "8d9bff76",
   "metadata": {},
   "source": [
    "对称矩阵：关于主对角线对称。A等于其转置。即A = A<sup>T</sup>"
   ]
  },
  {
   "cell_type": "code",
   "execution_count": 12,
   "id": "f26ce5aa",
   "metadata": {},
   "outputs": [
    {
     "data": {
      "text/plain": [
       "tensor([[1, 2, 3],\n",
       "        [2, 0, 4],\n",
       "        [3, 4, 5]])"
      ]
     },
     "execution_count": 12,
     "metadata": {},
     "output_type": "execute_result"
    }
   ],
   "source": [
    "B = torch.tensor([[1,2,3], [2,0,4], [3,4,5]])\n",
    "B"
   ]
  },
  {
   "cell_type": "code",
   "execution_count": 13,
   "id": "055f7d58",
   "metadata": {},
   "outputs": [
    {
     "data": {
      "text/plain": [
       "tensor([[True, True, True],\n",
       "        [True, True, True],\n",
       "        [True, True, True]])"
      ]
     },
     "execution_count": 13,
     "metadata": {},
     "output_type": "execute_result"
    }
   ],
   "source": [
    "B == B.T"
   ]
  },
  {
   "cell_type": "markdown",
   "id": "cff2822b",
   "metadata": {},
   "source": [
    "创建轴为3的张量"
   ]
  },
  {
   "cell_type": "code",
   "execution_count": 15,
   "id": "91d52fce",
   "metadata": {},
   "outputs": [
    {
     "data": {
      "text/plain": [
       "tensor([[[ 0,  1,  2,  3],\n",
       "         [ 4,  5,  6,  7],\n",
       "         [ 8,  9, 10, 11]],\n",
       "\n",
       "        [[12, 13, 14, 15],\n",
       "         [16, 17, 18, 19],\n",
       "         [20, 21, 22, 23]]])"
      ]
     },
     "execution_count": 15,
     "metadata": {},
     "output_type": "execute_result"
    }
   ],
   "source": [
    "x = torch.arange(24).reshape(2,3,4)\n",
    "x"
   ]
  },
  {
   "cell_type": "markdown",
   "id": "c72f1191",
   "metadata": {},
   "source": [
    "给定相同shape的任何两个张量，按元素二元运算的结果是相同shape的张量。"
   ]
  },
  {
   "cell_type": "code",
   "execution_count": 19,
   "id": "60a689ef",
   "metadata": {},
   "outputs": [
    {
     "name": "stdout",
     "output_type": "stream",
     "text": [
      "tensor([[ 0.,  1.,  2.,  3.],\n",
      "        [ 4.,  5.,  6.,  7.],\n",
      "        [ 8.,  9., 10., 11.],\n",
      "        [12., 13., 14., 15.],\n",
      "        [16., 17., 18., 19.]])\n",
      "1708698644800\n",
      "1708689734784\n"
     ]
    }
   ],
   "source": [
    "A = torch.arange(20, dtype=torch.float32).reshape(5, 4)\n",
    "B = A.clone()  # 创建一个新的张量，重新分配一块新的内存。\n",
    "print(B)\n",
    "print(id(A))\n",
    "print(id(B))"
   ]
  },
  {
   "cell_type": "markdown",
   "id": "7a2f8fc0",
   "metadata": {},
   "source": [
    "**两个矩阵按照元素乘法**"
   ]
  },
  {
   "cell_type": "code",
   "execution_count": 20,
   "id": "e00395b1",
   "metadata": {},
   "outputs": [
    {
     "data": {
      "text/plain": [
       "tensor([[  0.,   1.,   4.,   9.],\n",
       "        [ 16.,  25.,  36.,  49.],\n",
       "        [ 64.,  81., 100., 121.],\n",
       "        [144., 169., 196., 225.],\n",
       "        [256., 289., 324., 361.]])"
      ]
     },
     "execution_count": 20,
     "metadata": {},
     "output_type": "execute_result"
    }
   ],
   "source": [
    "A * B"
   ]
  },
  {
   "cell_type": "code",
   "execution_count": 22,
   "id": "a5e6e5b0",
   "metadata": {},
   "outputs": [
    {
     "data": {
      "text/plain": [
       "tensor([[[ 0,  2,  4,  6],\n",
       "         [ 8, 10, 12, 14],\n",
       "         [16, 18, 20, 22]],\n",
       "\n",
       "        [[24, 26, 28, 30],\n",
       "         [32, 34, 36, 38],\n",
       "         [40, 42, 44, 46]]])"
      ]
     },
     "execution_count": 22,
     "metadata": {},
     "output_type": "execute_result"
    }
   ],
   "source": [
    "a = 2\n",
    "X = torch.arange(24).reshape(2, 3, 4)\n",
    "a * X  # 将标量a与每个元素相乘"
   ]
  },
  {
   "cell_type": "markdown",
   "id": "0ff0b06b",
   "metadata": {},
   "source": [
    "**对张量根据某个轴进行求和**"
   ]
  },
  {
   "cell_type": "code",
   "execution_count": 23,
   "id": "af757306",
   "metadata": {},
   "outputs": [
    {
     "name": "stdout",
     "output_type": "stream",
     "text": [
      "tensor([0., 1., 2., 3.])\n",
      "tensor(6.)\n"
     ]
    }
   ],
   "source": [
    "x = torch.arange(4, dtype=torch.float32)\n",
    "print(x)\n",
    "print(x.sum())  # 对所有元素求和"
   ]
  },
  {
   "cell_type": "code",
   "execution_count": 27,
   "id": "a17bee68",
   "metadata": {},
   "outputs": [
    {
     "data": {
      "text/plain": [
       "(torch.Size([5, 4]), tensor(190.))"
      ]
     },
     "execution_count": 27,
     "metadata": {},
     "output_type": "execute_result"
    }
   ],
   "source": [
    "A.shape, A.sum()  # 默认是计算所有的元素和。"
   ]
  },
  {
   "cell_type": "code",
   "execution_count": 29,
   "id": "ead24138",
   "metadata": {
    "scrolled": true
   },
   "outputs": [
    {
     "name": "stdout",
     "output_type": "stream",
     "text": [
      "tensor([[ 0.,  1.,  2.,  3.],\n",
      "        [ 4.,  5.,  6.,  7.],\n",
      "        [ 8.,  9., 10., 11.],\n",
      "        [12., 13., 14., 15.],\n",
      "        [16., 17., 18., 19.]])\n"
     ]
    },
    {
     "data": {
      "text/plain": [
       "(tensor([40., 45., 50., 55.]), torch.Size([4]))"
      ]
     },
     "execution_count": 29,
     "metadata": {},
     "output_type": "execute_result"
    }
   ],
   "source": [
    "print(A)\n",
    "# shape = (5, 4) 计算第1维度的元素的和，即5行，每一行的和。axis=0是行之间的操作。\n",
    "# 第一列的所有行相加为第一个元素。\n",
    "A_sum_axis0 = A.sum(axis=0)\n",
    "A_sum_axis0, A_sum_axis0.shape"
   ]
  },
  {
   "cell_type": "code",
   "execution_count": 32,
   "id": "ca2b6cee",
   "metadata": {},
   "outputs": [
    {
     "name": "stdout",
     "output_type": "stream",
     "text": [
      "tensor([[ 0.,  1.,  2.,  3.],\n",
      "        [ 4.,  5.,  6.,  7.],\n",
      "        [ 8.,  9., 10., 11.],\n",
      "        [12., 13., 14., 15.],\n",
      "        [16., 17., 18., 19.]])\n"
     ]
    },
    {
     "data": {
      "text/plain": [
       "(tensor([ 6., 22., 38., 54., 70.]), torch.Size([5]))"
      ]
     },
     "execution_count": 32,
     "metadata": {},
     "output_type": "execute_result"
    }
   ],
   "source": [
    "print(A)\n",
    "# 对（5,4）的第二维度进行求和，4列。axis=0是列之间的操作\n",
    "# 第一行的所有列相加，是第一个元素。\n",
    "A_sum_axis1 = A.sum(axis=1)\n",
    "A_sum_axis1, A_sum_axis1.shape"
   ]
  },
  {
   "cell_type": "markdown",
   "id": "73884273",
   "metadata": {},
   "source": [
    "**求张量的平均值**"
   ]
  },
  {
   "cell_type": "code",
   "execution_count": 33,
   "id": "fa59b774",
   "metadata": {},
   "outputs": [
    {
     "data": {
      "text/plain": [
       "(tensor(9.5000), tensor(9.5000))"
      ]
     },
     "execution_count": 33,
     "metadata": {},
     "output_type": "execute_result"
    }
   ],
   "source": [
    "A.mean(), A.sum() / A.numel()  # tensor.numel() 返回元素的个数"
   ]
  },
  {
   "cell_type": "code",
   "execution_count": 35,
   "id": "a7b89456",
   "metadata": {},
   "outputs": [
    {
     "data": {
      "text/plain": [
       "(tensor([ 8.,  9., 10., 11.]), tensor([ 8.,  9., 10., 11.]))"
      ]
     },
     "execution_count": 35,
     "metadata": {},
     "output_type": "execute_result"
    }
   ],
   "source": [
    "# 按照某个维度进行求均值\n",
    "A.mean(axis=0), A.sum(axis=0) / A.shape[0]"
   ]
  },
  {
   "cell_type": "markdown",
   "id": "23e09029",
   "metadata": {},
   "source": [
    "**计算总和或均值时保持轴数不变**"
   ]
  },
  {
   "cell_type": "code",
   "execution_count": 37,
   "id": "90a3a03b",
   "metadata": {},
   "outputs": [
    {
     "name": "stdout",
     "output_type": "stream",
     "text": [
      "tensor([ 6., 22., 38., 54., 70.])\n",
      "tensor([[ 6.],\n",
      "        [22.],\n",
      "        [38.],\n",
      "        [54.],\n",
      "        [70.]])\n"
     ]
    }
   ],
   "source": [
    "sum_A = A.sum(axis=1,)\n",
    "print(sum_A)\n",
    "sum_B = A.sum(axis=1, keepdims=True)  # keepdims保持轴数不变，默认False\n",
    "print(sum_B)"
   ]
  },
  {
   "cell_type": "code",
   "execution_count": 40,
   "id": "7dd82d57",
   "metadata": {},
   "outputs": [
    {
     "name": "stdout",
     "output_type": "stream",
     "text": [
      "tensor([[ 0.,  1.,  2.,  3.],\n",
      "        [ 4.,  5.,  6.,  7.],\n",
      "        [ 8.,  9., 10., 11.],\n",
      "        [12., 13., 14., 15.],\n",
      "        [16., 17., 18., 19.]])\n"
     ]
    },
    {
     "data": {
      "text/plain": [
       "tensor([[0.0000, 0.1667, 0.3333, 0.5000],\n",
       "        [0.1818, 0.2273, 0.2727, 0.3182],\n",
       "        [0.2105, 0.2368, 0.2632, 0.2895],\n",
       "        [0.2222, 0.2407, 0.2593, 0.2778],\n",
       "        [0.2286, 0.2429, 0.2571, 0.2714]])"
      ]
     },
     "execution_count": 40,
     "metadata": {},
     "output_type": "execute_result"
    }
   ],
   "source": [
    "# 通过广播机制将A 除以sum_B。  此时第一行都除以6，第二行都除以22。\n",
    "print(A)\n",
    "A / sum_B"
   ]
  },
  {
   "cell_type": "code",
   "execution_count": 47,
   "id": "cd60bca5",
   "metadata": {},
   "outputs": [
    {
     "data": {
      "text/plain": [
       "tensor([[ 0.,  1.,  2.,  3.],\n",
       "        [ 4.,  6.,  8., 10.],\n",
       "        [12., 15., 18., 21.],\n",
       "        [24., 28., 32., 36.],\n",
       "        [40., 45., 50., 55.]])"
      ]
     },
     "execution_count": 47,
     "metadata": {},
     "output_type": "execute_result"
    }
   ],
   "source": [
    "# 进行累加求和。\n",
    "\n",
    "# 根据某个轴累加求和。dim必填参数。dim=0为进行行操作。\n",
    "# 第一列的所有行进行累加。 0 0 + 4 0 + 4 + 8 。。。\n",
    "A.cumsum(dim=0)  \n"
   ]
  },
  {
   "cell_type": "markdown",
   "id": "875b64ce",
   "metadata": {},
   "source": [
    "**点积。即相同位置元素相乘，然后相加**"
   ]
  },
  {
   "cell_type": "code",
   "execution_count": 50,
   "id": "560a1632",
   "metadata": {},
   "outputs": [
    {
     "data": {
      "text/plain": [
       "(tensor([1., 2., 3., 5.]), tensor([1., 1., 1., 1.]), tensor(11.))"
      ]
     },
     "execution_count": 50,
     "metadata": {},
     "output_type": "execute_result"
    }
   ],
   "source": [
    "x = torch.tensor([1,2,3,5], dtype=torch.float32)\n",
    "y = torch.ones(4, dtype=torch.float32)\n",
    "x, y, torch.dot(x, y)  # dot 向量的点积"
   ]
  },
  {
   "cell_type": "code",
   "execution_count": 51,
   "id": "4b310487",
   "metadata": {},
   "outputs": [
    {
     "data": {
      "text/plain": [
       "tensor(11.)"
      ]
     },
     "execution_count": 51,
     "metadata": {},
     "output_type": "execute_result"
    }
   ],
   "source": [
    "# 也可以通过进行按元素相乘，然后相加，计算点积。\n",
    "torch.sum(x * y)"
   ]
  },
  {
   "cell_type": "markdown",
   "id": "07ffb7f5",
   "metadata": {},
   "source": [
    "**矩阵乘以向量。结果为一个向量。**"
   ]
  },
  {
   "cell_type": "code",
   "execution_count": 57,
   "id": "cf47984f",
   "metadata": {},
   "outputs": [
    {
     "name": "stdout",
     "output_type": "stream",
     "text": [
      "tensor([[ 0.,  1.,  2.,  3.],\n",
      "        [ 4.,  5.,  6.,  7.],\n",
      "        [ 8.,  9., 10., 11.],\n",
      "        [12., 13., 14., 15.],\n",
      "        [16., 17., 18., 19.]])\n",
      "tensor([1., 2., 3., 5.])\n"
     ]
    },
    {
     "data": {
      "text/plain": [
       "(torch.Size([5, 4]), torch.Size([4]), tensor([ 23.,  67., 111., 155., 199.]))"
      ]
     },
     "execution_count": 57,
     "metadata": {},
     "output_type": "execute_result"
    }
   ],
   "source": [
    "print(A)\n",
    "print(x)\n",
    "A.shape, x.shape, torch.mv(A, x)  # mv是矩阵和向量的乘积"
   ]
  },
  {
   "cell_type": "markdown",
   "id": "f09b315c",
   "metadata": {},
   "source": [
    "**矩阵乘以矩阵**"
   ]
  },
  {
   "cell_type": "code",
   "execution_count": 59,
   "id": "090433ee",
   "metadata": {},
   "outputs": [
    {
     "name": "stdout",
     "output_type": "stream",
     "text": [
      "tensor([[ 0.,  1.,  2.,  3.],\n",
      "        [ 4.,  5.,  6.,  7.],\n",
      "        [ 8.,  9., 10., 11.],\n",
      "        [12., 13., 14., 15.],\n",
      "        [16., 17., 18., 19.]])\n",
      "tensor([[1., 1., 1.],\n",
      "        [1., 1., 1.],\n",
      "        [1., 1., 1.],\n",
      "        [1., 1., 1.]])\n"
     ]
    },
    {
     "data": {
      "text/plain": [
       "tensor([[ 6.,  6.,  6.],\n",
       "        [22., 22., 22.],\n",
       "        [38., 38., 38.],\n",
       "        [54., 54., 54.],\n",
       "        [70., 70., 70.]])"
      ]
     },
     "execution_count": 59,
     "metadata": {},
     "output_type": "execute_result"
    }
   ],
   "source": [
    "print(A)\n",
    "B = torch.ones(4, 3)\n",
    "print(B)\n",
    "torch.mm(A, B)  # 两个矩阵相乘，A的行乘以B的列。"
   ]
  },
  {
   "cell_type": "markdown",
   "id": "8798cfda",
   "metadata": {},
   "source": [
    "**L2向量范数。向量元素平方和的平方根**"
   ]
  },
  {
   "cell_type": "code",
   "execution_count": 60,
   "id": "1c3dc046",
   "metadata": {},
   "outputs": [
    {
     "data": {
      "text/plain": [
       "tensor(5.)"
      ]
     },
     "execution_count": 60,
     "metadata": {},
     "output_type": "execute_result"
    }
   ],
   "source": [
    "u = torch.tensor([3.0, 4.0])\n",
    "torch.norm(u)  # L2范数"
   ]
  },
  {
   "cell_type": "markdown",
   "id": "b6021352",
   "metadata": {},
   "source": [
    "**L1范数。向量元素的绝对值之和**"
   ]
  },
  {
   "cell_type": "code",
   "execution_count": 61,
   "id": "a9c052e1",
   "metadata": {},
   "outputs": [
    {
     "name": "stdout",
     "output_type": "stream",
     "text": [
      "tensor([3., 4.])\n"
     ]
    },
    {
     "data": {
      "text/plain": [
       "tensor(7.)"
      ]
     },
     "execution_count": 61,
     "metadata": {},
     "output_type": "execute_result"
    }
   ],
   "source": [
    "print(u)\n",
    "torch.abs(u).sum()"
   ]
  },
  {
   "cell_type": "code",
   "execution_count": 62,
   "id": "1590ce16",
   "metadata": {},
   "outputs": [
    {
     "name": "stdout",
     "output_type": "stream",
     "text": [
      "tensor([[-3,  4],\n",
      "        [ 2, -7]])\n"
     ]
    },
    {
     "data": {
      "text/plain": [
       "tensor([[3, 4],\n",
       "        [2, 7]])"
      ]
     },
     "execution_count": 62,
     "metadata": {},
     "output_type": "execute_result"
    }
   ],
   "source": [
    "x1 = torch.tensor([[-3, 4], [2, -7]])\n",
    "print(x1)\n",
    "x1.abs()"
   ]
  },
  {
   "cell_type": "markdown",
   "id": "536ef022",
   "metadata": {},
   "source": [
    "**矩阵的F范数。矩阵元素的平方和的平方根**"
   ]
  },
  {
   "cell_type": "code",
   "execution_count": 63,
   "id": "df2111c7",
   "metadata": {},
   "outputs": [
    {
     "data": {
      "text/plain": [
       "tensor(6.)"
      ]
     },
     "execution_count": 63,
     "metadata": {},
     "output_type": "execute_result"
    }
   ],
   "source": [
    "torch.norm(torch.ones((4, 9)))"
   ]
  },
  {
   "cell_type": "markdown",
   "id": "7860a401",
   "metadata": {},
   "source": [
    "### 拓展 - 按特定轴相加问题"
   ]
  },
  {
   "cell_type": "code",
   "execution_count": 64,
   "id": "84f14a07",
   "metadata": {},
   "outputs": [
    {
     "data": {
      "text/plain": [
       "torch.Size([2, 5, 4])"
      ]
     },
     "execution_count": 64,
     "metadata": {},
     "output_type": "execute_result"
    }
   ],
   "source": [
    "a = torch.ones((2, 5, 4))\n",
    "a.shape"
   ]
  },
  {
   "cell_type": "code",
   "execution_count": 65,
   "id": "79848136",
   "metadata": {},
   "outputs": [
    {
     "data": {
      "text/plain": [
       "torch.Size([2, 4])"
      ]
     },
     "execution_count": 65,
     "metadata": {},
     "output_type": "execute_result"
    }
   ],
   "source": [
    "# 如果 对axis=1进行相加。则结果的shape为[2, 4]\n",
    "a.sum(axis=1).shape"
   ]
  },
  {
   "cell_type": "code",
   "execution_count": 66,
   "id": "52e30023",
   "metadata": {},
   "outputs": [
    {
     "data": {
      "text/plain": [
       "torch.Size([5, 4])"
      ]
     },
     "execution_count": 66,
     "metadata": {},
     "output_type": "execute_result"
    }
   ],
   "source": [
    "# 如果按照axis=0进行相加，结果shape为[5, 4]\n",
    "a.sum(axis=0).shape"
   ]
  },
  {
   "cell_type": "code",
   "execution_count": 67,
   "id": "28a0201d",
   "metadata": {},
   "outputs": [
    {
     "data": {
      "text/plain": [
       "torch.Size([4])"
      ]
     },
     "execution_count": 67,
     "metadata": {},
     "output_type": "execute_result"
    }
   ],
   "source": [
    "# 如果按照axis=[0,1]进行相加，结果shape为[4]\n",
    "a.sum(axis=[0, 1]).shape"
   ]
  },
  {
   "cell_type": "code",
   "execution_count": 69,
   "id": "33d19c52",
   "metadata": {},
   "outputs": [
    {
     "data": {
      "text/plain": [
       "torch.Size([2, 1, 4])"
      ]
     },
     "execution_count": 69,
     "metadata": {},
     "output_type": "execute_result"
    }
   ],
   "source": [
    "# 如果使用keepdims=True参数。则结果原来的shape，变为1\n",
    "a.sum(axis=1, keepdims=True).shape"
   ]
  }
 ],
 "metadata": {
  "kernelspec": {
   "display_name": "Python 3 (ipykernel)",
   "language": "python",
   "name": "python3"
  },
  "language_info": {
   "codemirror_mode": {
    "name": "ipython",
    "version": 3
   },
   "file_extension": ".py",
   "mimetype": "text/x-python",
   "name": "python",
   "nbconvert_exporter": "python",
   "pygments_lexer": "ipython3",
   "version": "3.9.2"
  }
 },
 "nbformat": 4,
 "nbformat_minor": 5
}
